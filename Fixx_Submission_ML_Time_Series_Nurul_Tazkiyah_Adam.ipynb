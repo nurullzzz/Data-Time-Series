{
  "nbformat": 4,
  "nbformat_minor": 0,
  "metadata": {
    "colab": {
      "provenance": []
    },
    "kernelspec": {
      "name": "python3",
      "display_name": "Python 3"
    },
    "language_info": {
      "name": "python"
    },
    "gpuClass": "standard",
    "accelerator": "GPU"
  },
  "cells": [
    {
      "cell_type": "markdown",
      "source": [
        "## **Prediksi Time Series Oleh Nurul Tazkiyah Adam**"
      ],
      "metadata": {
        "id": "KhTwdiOovE6F"
      }
    },
    {
      "cell_type": "code",
      "execution_count": 40,
      "metadata": {
        "colab": {
          "base_uri": "https://localhost:8080/"
        },
        "id": "ppikQL5TuzBv",
        "outputId": "8fa932df-d574-4ecf-853e-75624744efee"
      },
      "outputs": [
        {
          "output_type": "stream",
          "name": "stdout",
          "text": [
            "2.9.2\n"
          ]
        }
      ],
      "source": [
        "# memastikan tensorflow yang digunakan versi 2 atau lebih\n",
        "import tensorflow as tf\n",
        "print(tf.__version__)"
      ]
    },
    {
      "cell_type": "code",
      "source": [
        "# download dataset dari google drive https://drive.google.com/file/d/1ShO035_gg0piR9xrWq8utZh1lei4tBsA/view?usp=sharing\n",
        "!gdown 1ShO035_gg0piR9xrWq8utZh1lei4tBsA"
      ],
      "metadata": {
        "colab": {
          "base_uri": "https://localhost:8080/"
        },
        "id": "Ug22gR8z65Pa",
        "outputId": "71190e55-8e97-49e2-e09a-4a69c5623153"
      },
      "execution_count": 41,
      "outputs": [
        {
          "output_type": "stream",
          "name": "stdout",
          "text": [
            "Downloading...\n",
            "From: https://drive.google.com/uc?id=1ShO035_gg0piR9xrWq8utZh1lei4tBsA\n",
            "To: /content/london_weather.csv\n",
            "\r  0% 0.00/814k [00:00<?, ?B/s]\r100% 814k/814k [00:00<00:00, 158MB/s]\n"
          ]
        }
      ]
    },
    {
      "cell_type": "code",
      "source": [
        "import pandas as pd\n",
        "\n",
        "df = pd.read_csv('london_weather.csv')\n",
        "df.head()"
      ],
      "metadata": {
        "colab": {
          "base_uri": "https://localhost:8080/",
          "height": 206
        },
        "id": "elxXq4EiMCqL",
        "outputId": "06bb0a08-1f54-44ae-a696-1fa7abee48ca"
      },
      "execution_count": 42,
      "outputs": [
        {
          "output_type": "execute_result",
          "data": {
            "text/plain": [
              "       date  cloud_cover  sunshine  global_radiation  max_temp  mean_temp  \\\n",
              "0  19790101          2.0       7.0              52.0       2.3       -4.1   \n",
              "1  19790102          6.0       1.7              27.0       1.6       -2.6   \n",
              "2  19790103          5.0       0.0              13.0       1.3       -2.8   \n",
              "3  19790104          8.0       0.0              13.0      -0.3       -2.6   \n",
              "4  19790105          6.0       2.0              29.0       5.6       -0.8   \n",
              "\n",
              "   min_temp  precipitation  pressure  snow_depth  \n",
              "0      -7.5            0.4  101900.0         9.0  \n",
              "1      -7.5            0.0  102530.0         8.0  \n",
              "2      -7.2            0.0  102050.0         4.0  \n",
              "3      -6.5            0.0  100840.0         2.0  \n",
              "4      -1.4            0.0  102250.0         1.0  "
            ],
            "text/html": [
              "\n",
              "  <div id=\"df-fd978ef3-eb14-474e-990d-8d47f76b1abe\">\n",
              "    <div class=\"colab-df-container\">\n",
              "      <div>\n",
              "<style scoped>\n",
              "    .dataframe tbody tr th:only-of-type {\n",
              "        vertical-align: middle;\n",
              "    }\n",
              "\n",
              "    .dataframe tbody tr th {\n",
              "        vertical-align: top;\n",
              "    }\n",
              "\n",
              "    .dataframe thead th {\n",
              "        text-align: right;\n",
              "    }\n",
              "</style>\n",
              "<table border=\"1\" class=\"dataframe\">\n",
              "  <thead>\n",
              "    <tr style=\"text-align: right;\">\n",
              "      <th></th>\n",
              "      <th>date</th>\n",
              "      <th>cloud_cover</th>\n",
              "      <th>sunshine</th>\n",
              "      <th>global_radiation</th>\n",
              "      <th>max_temp</th>\n",
              "      <th>mean_temp</th>\n",
              "      <th>min_temp</th>\n",
              "      <th>precipitation</th>\n",
              "      <th>pressure</th>\n",
              "      <th>snow_depth</th>\n",
              "    </tr>\n",
              "  </thead>\n",
              "  <tbody>\n",
              "    <tr>\n",
              "      <th>0</th>\n",
              "      <td>19790101</td>\n",
              "      <td>2.0</td>\n",
              "      <td>7.0</td>\n",
              "      <td>52.0</td>\n",
              "      <td>2.3</td>\n",
              "      <td>-4.1</td>\n",
              "      <td>-7.5</td>\n",
              "      <td>0.4</td>\n",
              "      <td>101900.0</td>\n",
              "      <td>9.0</td>\n",
              "    </tr>\n",
              "    <tr>\n",
              "      <th>1</th>\n",
              "      <td>19790102</td>\n",
              "      <td>6.0</td>\n",
              "      <td>1.7</td>\n",
              "      <td>27.0</td>\n",
              "      <td>1.6</td>\n",
              "      <td>-2.6</td>\n",
              "      <td>-7.5</td>\n",
              "      <td>0.0</td>\n",
              "      <td>102530.0</td>\n",
              "      <td>8.0</td>\n",
              "    </tr>\n",
              "    <tr>\n",
              "      <th>2</th>\n",
              "      <td>19790103</td>\n",
              "      <td>5.0</td>\n",
              "      <td>0.0</td>\n",
              "      <td>13.0</td>\n",
              "      <td>1.3</td>\n",
              "      <td>-2.8</td>\n",
              "      <td>-7.2</td>\n",
              "      <td>0.0</td>\n",
              "      <td>102050.0</td>\n",
              "      <td>4.0</td>\n",
              "    </tr>\n",
              "    <tr>\n",
              "      <th>3</th>\n",
              "      <td>19790104</td>\n",
              "      <td>8.0</td>\n",
              "      <td>0.0</td>\n",
              "      <td>13.0</td>\n",
              "      <td>-0.3</td>\n",
              "      <td>-2.6</td>\n",
              "      <td>-6.5</td>\n",
              "      <td>0.0</td>\n",
              "      <td>100840.0</td>\n",
              "      <td>2.0</td>\n",
              "    </tr>\n",
              "    <tr>\n",
              "      <th>4</th>\n",
              "      <td>19790105</td>\n",
              "      <td>6.0</td>\n",
              "      <td>2.0</td>\n",
              "      <td>29.0</td>\n",
              "      <td>5.6</td>\n",
              "      <td>-0.8</td>\n",
              "      <td>-1.4</td>\n",
              "      <td>0.0</td>\n",
              "      <td>102250.0</td>\n",
              "      <td>1.0</td>\n",
              "    </tr>\n",
              "  </tbody>\n",
              "</table>\n",
              "</div>\n",
              "      <button class=\"colab-df-convert\" onclick=\"convertToInteractive('df-fd978ef3-eb14-474e-990d-8d47f76b1abe')\"\n",
              "              title=\"Convert this dataframe to an interactive table.\"\n",
              "              style=\"display:none;\">\n",
              "        \n",
              "  <svg xmlns=\"http://www.w3.org/2000/svg\" height=\"24px\"viewBox=\"0 0 24 24\"\n",
              "       width=\"24px\">\n",
              "    <path d=\"M0 0h24v24H0V0z\" fill=\"none\"/>\n",
              "    <path d=\"M18.56 5.44l.94 2.06.94-2.06 2.06-.94-2.06-.94-.94-2.06-.94 2.06-2.06.94zm-11 1L8.5 8.5l.94-2.06 2.06-.94-2.06-.94L8.5 2.5l-.94 2.06-2.06.94zm10 10l.94 2.06.94-2.06 2.06-.94-2.06-.94-.94-2.06-.94 2.06-2.06.94z\"/><path d=\"M17.41 7.96l-1.37-1.37c-.4-.4-.92-.59-1.43-.59-.52 0-1.04.2-1.43.59L10.3 9.45l-7.72 7.72c-.78.78-.78 2.05 0 2.83L4 21.41c.39.39.9.59 1.41.59.51 0 1.02-.2 1.41-.59l7.78-7.78 2.81-2.81c.8-.78.8-2.07 0-2.86zM5.41 20L4 18.59l7.72-7.72 1.47 1.35L5.41 20z\"/>\n",
              "  </svg>\n",
              "      </button>\n",
              "      \n",
              "  <style>\n",
              "    .colab-df-container {\n",
              "      display:flex;\n",
              "      flex-wrap:wrap;\n",
              "      gap: 12px;\n",
              "    }\n",
              "\n",
              "    .colab-df-convert {\n",
              "      background-color: #E8F0FE;\n",
              "      border: none;\n",
              "      border-radius: 50%;\n",
              "      cursor: pointer;\n",
              "      display: none;\n",
              "      fill: #1967D2;\n",
              "      height: 32px;\n",
              "      padding: 0 0 0 0;\n",
              "      width: 32px;\n",
              "    }\n",
              "\n",
              "    .colab-df-convert:hover {\n",
              "      background-color: #E2EBFA;\n",
              "      box-shadow: 0px 1px 2px rgba(60, 64, 67, 0.3), 0px 1px 3px 1px rgba(60, 64, 67, 0.15);\n",
              "      fill: #174EA6;\n",
              "    }\n",
              "\n",
              "    [theme=dark] .colab-df-convert {\n",
              "      background-color: #3B4455;\n",
              "      fill: #D2E3FC;\n",
              "    }\n",
              "\n",
              "    [theme=dark] .colab-df-convert:hover {\n",
              "      background-color: #434B5C;\n",
              "      box-shadow: 0px 1px 3px 1px rgba(0, 0, 0, 0.15);\n",
              "      filter: drop-shadow(0px 1px 2px rgba(0, 0, 0, 0.3));\n",
              "      fill: #FFFFFF;\n",
              "    }\n",
              "  </style>\n",
              "\n",
              "      <script>\n",
              "        const buttonEl =\n",
              "          document.querySelector('#df-fd978ef3-eb14-474e-990d-8d47f76b1abe button.colab-df-convert');\n",
              "        buttonEl.style.display =\n",
              "          google.colab.kernel.accessAllowed ? 'block' : 'none';\n",
              "\n",
              "        async function convertToInteractive(key) {\n",
              "          const element = document.querySelector('#df-fd978ef3-eb14-474e-990d-8d47f76b1abe');\n",
              "          const dataTable =\n",
              "            await google.colab.kernel.invokeFunction('convertToInteractive',\n",
              "                                                     [key], {});\n",
              "          if (!dataTable) return;\n",
              "\n",
              "          const docLinkHtml = 'Like what you see? Visit the ' +\n",
              "            '<a target=\"_blank\" href=https://colab.research.google.com/notebooks/data_table.ipynb>data table notebook</a>'\n",
              "            + ' to learn more about interactive tables.';\n",
              "          element.innerHTML = '';\n",
              "          dataTable['output_type'] = 'display_data';\n",
              "          await google.colab.output.renderOutput(dataTable, element);\n",
              "          const docLink = document.createElement('div');\n",
              "          docLink.innerHTML = docLinkHtml;\n",
              "          element.appendChild(docLink);\n",
              "        }\n",
              "      </script>\n",
              "    </div>\n",
              "  </div>\n",
              "  "
            ]
          },
          "metadata": {},
          "execution_count": 42
        }
      ]
    },
    {
      "cell_type": "code",
      "source": [
        "df.info()"
      ],
      "metadata": {
        "colab": {
          "base_uri": "https://localhost:8080/"
        },
        "id": "9aCTnEX9kBIT",
        "outputId": "fe5f0d10-9e44-4f38-cc8d-d3139e79e746"
      },
      "execution_count": 43,
      "outputs": [
        {
          "output_type": "stream",
          "name": "stdout",
          "text": [
            "<class 'pandas.core.frame.DataFrame'>\n",
            "RangeIndex: 15341 entries, 0 to 15340\n",
            "Data columns (total 10 columns):\n",
            " #   Column            Non-Null Count  Dtype  \n",
            "---  ------            --------------  -----  \n",
            " 0   date              15341 non-null  int64  \n",
            " 1   cloud_cover       15322 non-null  float64\n",
            " 2   sunshine          15341 non-null  float64\n",
            " 3   global_radiation  15322 non-null  float64\n",
            " 4   max_temp          15335 non-null  float64\n",
            " 5   mean_temp         15305 non-null  float64\n",
            " 6   min_temp          15339 non-null  float64\n",
            " 7   precipitation     15335 non-null  float64\n",
            " 8   pressure          15337 non-null  float64\n",
            " 9   snow_depth        13900 non-null  float64\n",
            "dtypes: float64(9), int64(1)\n",
            "memory usage: 1.2 MB\n"
          ]
        }
      ]
    },
    {
      "cell_type": "code",
      "source": [
        "df.isnull().sum()"
      ],
      "metadata": {
        "colab": {
          "base_uri": "https://localhost:8080/"
        },
        "id": "12BiRPgotsfD",
        "outputId": "17bc6a2c-e3ba-4d0d-9971-0f374f6e4b78"
      },
      "execution_count": 44,
      "outputs": [
        {
          "output_type": "execute_result",
          "data": {
            "text/plain": [
              "date                   0\n",
              "cloud_cover           19\n",
              "sunshine               0\n",
              "global_radiation      19\n",
              "max_temp               6\n",
              "mean_temp             36\n",
              "min_temp               2\n",
              "precipitation          6\n",
              "pressure               4\n",
              "snow_depth          1441\n",
              "dtype: int64"
            ]
          },
          "metadata": {},
          "execution_count": 44
        }
      ]
    },
    {
      "cell_type": "code",
      "source": [
        "df = df.drop(columns=['cloud_cover', 'sunshine', 'global_radiation','max_temp','min_temp', 'precipitation', 'pressure', 'snow_depth'])\n",
        "df.shape"
      ],
      "metadata": {
        "colab": {
          "base_uri": "https://localhost:8080/"
        },
        "id": "VNsm6C5Kr76a",
        "outputId": "3f8004af-81fa-48e9-9f1c-3b96ea7ae8a5"
      },
      "execution_count": 45,
      "outputs": [
        {
          "output_type": "execute_result",
          "data": {
            "text/plain": [
              "(15341, 2)"
            ]
          },
          "metadata": {},
          "execution_count": 45
        }
      ]
    },
    {
      "cell_type": "code",
      "source": [
        "df.head()"
      ],
      "metadata": {
        "colab": {
          "base_uri": "https://localhost:8080/",
          "height": 206
        },
        "id": "fA1znY0RtoH2",
        "outputId": "2088f758-e883-4513-ba8a-2c3e2218dfbf"
      },
      "execution_count": 46,
      "outputs": [
        {
          "output_type": "execute_result",
          "data": {
            "text/plain": [
              "       date  mean_temp\n",
              "0  19790101       -4.1\n",
              "1  19790102       -2.6\n",
              "2  19790103       -2.8\n",
              "3  19790104       -2.6\n",
              "4  19790105       -0.8"
            ],
            "text/html": [
              "\n",
              "  <div id=\"df-b68e06f1-80de-486f-af20-73527e058294\">\n",
              "    <div class=\"colab-df-container\">\n",
              "      <div>\n",
              "<style scoped>\n",
              "    .dataframe tbody tr th:only-of-type {\n",
              "        vertical-align: middle;\n",
              "    }\n",
              "\n",
              "    .dataframe tbody tr th {\n",
              "        vertical-align: top;\n",
              "    }\n",
              "\n",
              "    .dataframe thead th {\n",
              "        text-align: right;\n",
              "    }\n",
              "</style>\n",
              "<table border=\"1\" class=\"dataframe\">\n",
              "  <thead>\n",
              "    <tr style=\"text-align: right;\">\n",
              "      <th></th>\n",
              "      <th>date</th>\n",
              "      <th>mean_temp</th>\n",
              "    </tr>\n",
              "  </thead>\n",
              "  <tbody>\n",
              "    <tr>\n",
              "      <th>0</th>\n",
              "      <td>19790101</td>\n",
              "      <td>-4.1</td>\n",
              "    </tr>\n",
              "    <tr>\n",
              "      <th>1</th>\n",
              "      <td>19790102</td>\n",
              "      <td>-2.6</td>\n",
              "    </tr>\n",
              "    <tr>\n",
              "      <th>2</th>\n",
              "      <td>19790103</td>\n",
              "      <td>-2.8</td>\n",
              "    </tr>\n",
              "    <tr>\n",
              "      <th>3</th>\n",
              "      <td>19790104</td>\n",
              "      <td>-2.6</td>\n",
              "    </tr>\n",
              "    <tr>\n",
              "      <th>4</th>\n",
              "      <td>19790105</td>\n",
              "      <td>-0.8</td>\n",
              "    </tr>\n",
              "  </tbody>\n",
              "</table>\n",
              "</div>\n",
              "      <button class=\"colab-df-convert\" onclick=\"convertToInteractive('df-b68e06f1-80de-486f-af20-73527e058294')\"\n",
              "              title=\"Convert this dataframe to an interactive table.\"\n",
              "              style=\"display:none;\">\n",
              "        \n",
              "  <svg xmlns=\"http://www.w3.org/2000/svg\" height=\"24px\"viewBox=\"0 0 24 24\"\n",
              "       width=\"24px\">\n",
              "    <path d=\"M0 0h24v24H0V0z\" fill=\"none\"/>\n",
              "    <path d=\"M18.56 5.44l.94 2.06.94-2.06 2.06-.94-2.06-.94-.94-2.06-.94 2.06-2.06.94zm-11 1L8.5 8.5l.94-2.06 2.06-.94-2.06-.94L8.5 2.5l-.94 2.06-2.06.94zm10 10l.94 2.06.94-2.06 2.06-.94-2.06-.94-.94-2.06-.94 2.06-2.06.94z\"/><path d=\"M17.41 7.96l-1.37-1.37c-.4-.4-.92-.59-1.43-.59-.52 0-1.04.2-1.43.59L10.3 9.45l-7.72 7.72c-.78.78-.78 2.05 0 2.83L4 21.41c.39.39.9.59 1.41.59.51 0 1.02-.2 1.41-.59l7.78-7.78 2.81-2.81c.8-.78.8-2.07 0-2.86zM5.41 20L4 18.59l7.72-7.72 1.47 1.35L5.41 20z\"/>\n",
              "  </svg>\n",
              "      </button>\n",
              "      \n",
              "  <style>\n",
              "    .colab-df-container {\n",
              "      display:flex;\n",
              "      flex-wrap:wrap;\n",
              "      gap: 12px;\n",
              "    }\n",
              "\n",
              "    .colab-df-convert {\n",
              "      background-color: #E8F0FE;\n",
              "      border: none;\n",
              "      border-radius: 50%;\n",
              "      cursor: pointer;\n",
              "      display: none;\n",
              "      fill: #1967D2;\n",
              "      height: 32px;\n",
              "      padding: 0 0 0 0;\n",
              "      width: 32px;\n",
              "    }\n",
              "\n",
              "    .colab-df-convert:hover {\n",
              "      background-color: #E2EBFA;\n",
              "      box-shadow: 0px 1px 2px rgba(60, 64, 67, 0.3), 0px 1px 3px 1px rgba(60, 64, 67, 0.15);\n",
              "      fill: #174EA6;\n",
              "    }\n",
              "\n",
              "    [theme=dark] .colab-df-convert {\n",
              "      background-color: #3B4455;\n",
              "      fill: #D2E3FC;\n",
              "    }\n",
              "\n",
              "    [theme=dark] .colab-df-convert:hover {\n",
              "      background-color: #434B5C;\n",
              "      box-shadow: 0px 1px 3px 1px rgba(0, 0, 0, 0.15);\n",
              "      filter: drop-shadow(0px 1px 2px rgba(0, 0, 0, 0.3));\n",
              "      fill: #FFFFFF;\n",
              "    }\n",
              "  </style>\n",
              "\n",
              "      <script>\n",
              "        const buttonEl =\n",
              "          document.querySelector('#df-b68e06f1-80de-486f-af20-73527e058294 button.colab-df-convert');\n",
              "        buttonEl.style.display =\n",
              "          google.colab.kernel.accessAllowed ? 'block' : 'none';\n",
              "\n",
              "        async function convertToInteractive(key) {\n",
              "          const element = document.querySelector('#df-b68e06f1-80de-486f-af20-73527e058294');\n",
              "          const dataTable =\n",
              "            await google.colab.kernel.invokeFunction('convertToInteractive',\n",
              "                                                     [key], {});\n",
              "          if (!dataTable) return;\n",
              "\n",
              "          const docLinkHtml = 'Like what you see? Visit the ' +\n",
              "            '<a target=\"_blank\" href=https://colab.research.google.com/notebooks/data_table.ipynb>data table notebook</a>'\n",
              "            + ' to learn more about interactive tables.';\n",
              "          element.innerHTML = '';\n",
              "          dataTable['output_type'] = 'display_data';\n",
              "          await google.colab.output.renderOutput(dataTable, element);\n",
              "          const docLink = document.createElement('div');\n",
              "          docLink.innerHTML = docLinkHtml;\n",
              "          element.appendChild(docLink);\n",
              "        }\n",
              "      </script>\n",
              "    </div>\n",
              "  </div>\n",
              "  "
            ]
          },
          "metadata": {},
          "execution_count": 46
        }
      ]
    },
    {
      "cell_type": "code",
      "source": [
        "import matplotlib.pyplot as plt\n",
        "\n",
        "dates = df['date'].values\n",
        "temp  = df['mean_temp'].values\n",
        " \n",
        "plt.figure(figsize=(15,5))\n",
        "plt.plot(df['date'].values, df['mean_temp'].values)\n",
        "plt.title('temperature', fontsize=18)"
      ],
      "metadata": {
        "id": "YVr0RJyUt7Hq",
        "colab": {
          "base_uri": "https://localhost:8080/",
          "height": 370
        },
        "outputId": "50dcf286-4a37-45f7-aef9-beda41e6c4f8"
      },
      "execution_count": 47,
      "outputs": [
        {
          "output_type": "execute_result",
          "data": {
            "text/plain": [
              "Text(0.5, 1.0, 'temperature')"
            ]
          },
          "metadata": {},
          "execution_count": 47
        },
        {
          "output_type": "display_data",
          "data": {
            "text/plain": [
              "<Figure size 1080x360 with 1 Axes>"
            ],
            "image/png": "[encoded data removed]"
          },
          "metadata": {
            "needs_background": "light"
          }
        }
      ]
    },
    {
      "cell_type": "markdown",
      "source": [
        "# Impute Missing Value"
      ],
      "metadata": {
        "id": "7wSGISYZ1dzJ"
      }
    },
    {
      "cell_type": "code",
      "source": [
        "import datetime\n",
        "from datetime import date\n",
        "\n",
        "df.columns=['date','mean_temp']\n",
        "\n",
        "#  fromat date dalam bentuk Year, month dan day\n",
        "df['date']=pd.to_datetime(df['date'], format='%Y-%m-%d')\n",
        "\n",
        "# set date menjadi index\n",
        "dataset= df.set_index('date')\n",
        "\n",
        "# cek data shape\n",
        "dataset.shape"
      ],
      "metadata": {
        "colab": {
          "base_uri": "https://localhost:8080/"
        },
        "id": "SabEQlMq0Fh1",
        "outputId": "f8f613f0-df59-4a12-9cf9-fd8b4084cae0"
      },
      "execution_count": 48,
      "outputs": [
        {
          "output_type": "execute_result",
          "data": {
            "text/plain": [
              "(15341, 1)"
            ]
          },
          "metadata": {},
          "execution_count": 48
        }
      ]
    },
    {
      "cell_type": "code",
      "source": [
        "dataset.head() # cek isi data setelah implementasi perubahan index dan format date"
      ],
      "metadata": {
        "colab": {
          "base_uri": "https://localhost:8080/",
          "height": 238
        },
        "id": "58DeJyF80zhE",
        "outputId": "d1438bcd-3037-413e-df2c-4ce4d9d5893e"
      },
      "execution_count": 49,
      "outputs": [
        {
          "output_type": "execute_result",
          "data": {
            "text/plain": [
              "                               mean_temp\n",
              "date                                    \n",
              "1970-01-01 00:00:00.019790101       -4.1\n",
              "1970-01-01 00:00:00.019790102       -2.6\n",
              "1970-01-01 00:00:00.019790103       -2.8\n",
              "1970-01-01 00:00:00.019790104       -2.6\n",
              "1970-01-01 00:00:00.019790105       -0.8"
            ],
            "text/html": [
              "\n",
              "  <div id=\"df-3c954cfc-5fc2-4058-a3ec-3376ab4717b0\">\n",
              "    <div class=\"colab-df-container\">\n",
              "      <div>\n",
              "<style scoped>\n",
              "    .dataframe tbody tr th:only-of-type {\n",
              "        vertical-align: middle;\n",
              "    }\n",
              "\n",
              "    .dataframe tbody tr th {\n",
              "        vertical-align: top;\n",
              "    }\n",
              "\n",
              "    .dataframe thead th {\n",
              "        text-align: right;\n",
              "    }\n",
              "</style>\n",
              "<table border=\"1\" class=\"dataframe\">\n",
              "  <thead>\n",
              "    <tr style=\"text-align: right;\">\n",
              "      <th></th>\n",
              "      <th>mean_temp</th>\n",
              "    </tr>\n",
              "    <tr>\n",
              "      <th>date</th>\n",
              "      <th></th>\n",
              "    </tr>\n",
              "  </thead>\n",
              "  <tbody>\n",
              "    <tr>\n",
              "      <th>1970-01-01 00:00:00.019790101</th>\n",
              "      <td>-4.1</td>\n",
              "    </tr>\n",
              "    <tr>\n",
              "      <th>1970-01-01 00:00:00.019790102</th>\n",
              "      <td>-2.6</td>\n",
              "    </tr>\n",
              "    <tr>\n",
              "      <th>1970-01-01 00:00:00.019790103</th>\n",
              "      <td>-2.8</td>\n",
              "    </tr>\n",
              "    <tr>\n",
              "      <th>1970-01-01 00:00:00.019790104</th>\n",
              "      <td>-2.6</td>\n",
              "    </tr>\n",
              "    <tr>\n",
              "      <th>1970-01-01 00:00:00.019790105</th>\n",
              "      <td>-0.8</td>\n",
              "    </tr>\n",
              "  </tbody>\n",
              "</table>\n",
              "</div>\n",
              "      <button class=\"colab-df-convert\" onclick=\"convertToInteractive('df-3c954cfc-5fc2-4058-a3ec-3376ab4717b0')\"\n",
              "              title=\"Convert this dataframe to an interactive table.\"\n",
              "              style=\"display:none;\">\n",
              "        \n",
              "  <svg xmlns=\"http://www.w3.org/2000/svg\" height=\"24px\"viewBox=\"0 0 24 24\"\n",
              "       width=\"24px\">\n",
              "    <path d=\"M0 0h24v24H0V0z\" fill=\"none\"/>\n",
              "    <path d=\"M18.56 5.44l.94 2.06.94-2.06 2.06-.94-2.06-.94-.94-2.06-.94 2.06-2.06.94zm-11 1L8.5 8.5l.94-2.06 2.06-.94-2.06-.94L8.5 2.5l-.94 2.06-2.06.94zm10 10l.94 2.06.94-2.06 2.06-.94-2.06-.94-.94-2.06-.94 2.06-2.06.94z\"/><path d=\"M17.41 7.96l-1.37-1.37c-.4-.4-.92-.59-1.43-.59-.52 0-1.04.2-1.43.59L10.3 9.45l-7.72 7.72c-.78.78-.78 2.05 0 2.83L4 21.41c.39.39.9.59 1.41.59.51 0 1.02-.2 1.41-.59l7.78-7.78 2.81-2.81c.8-.78.8-2.07 0-2.86zM5.41 20L4 18.59l7.72-7.72 1.47 1.35L5.41 20z\"/>\n",
              "  </svg>\n",
              "      </button>\n",
              "      \n",
              "  <style>\n",
              "    .colab-df-container {\n",
              "      display:flex;\n",
              "      flex-wrap:wrap;\n",
              "      gap: 12px;\n",
              "    }\n",
              "\n",
              "    .colab-df-convert {\n",
              "      background-color: #E8F0FE;\n",
              "      border: none;\n",
              "      border-radius: 50%;\n",
              "      cursor: pointer;\n",
              "      display: none;\n",
              "      fill: #1967D2;\n",
              "      height: 32px;\n",
              "      padding: 0 0 0 0;\n",
              "      width: 32px;\n",
              "    }\n",
              "\n",
              "    .colab-df-convert:hover {\n",
              "      background-color: #E2EBFA;\n",
              "      box-shadow: 0px 1px 2px rgba(60, 64, 67, 0.3), 0px 1px 3px 1px rgba(60, 64, 67, 0.15);\n",
              "      fill: #174EA6;\n",
              "    }\n",
              "\n",
              "    [theme=dark] .colab-df-convert {\n",
              "      background-color: #3B4455;\n",
              "      fill: #D2E3FC;\n",
              "    }\n",
              "\n",
              "    [theme=dark] .colab-df-convert:hover {\n",
              "      background-color: #434B5C;\n",
              "      box-shadow: 0px 1px 3px 1px rgba(0, 0, 0, 0.15);\n",
              "      filter: drop-shadow(0px 1px 2px rgba(0, 0, 0, 0.3));\n",
              "      fill: #FFFFFF;\n",
              "    }\n",
              "  </style>\n",
              "\n",
              "      <script>\n",
              "        const buttonEl =\n",
              "          document.querySelector('#df-3c954cfc-5fc2-4058-a3ec-3376ab4717b0 button.colab-df-convert');\n",
              "        buttonEl.style.display =\n",
              "          google.colab.kernel.accessAllowed ? 'block' : 'none';\n",
              "\n",
              "        async function convertToInteractive(key) {\n",
              "          const element = document.querySelector('#df-3c954cfc-5fc2-4058-a3ec-3376ab4717b0');\n",
              "          const dataTable =\n",
              "            await google.colab.kernel.invokeFunction('convertToInteractive',\n",
              "                                                     [key], {});\n",
              "          if (!dataTable) return;\n",
              "\n",
              "          const docLinkHtml = 'Like what you see? Visit the ' +\n",
              "            '<a target=\"_blank\" href=https://colab.research.google.com/notebooks/data_table.ipynb>data table notebook</a>'\n",
              "            + ' to learn more about interactive tables.';\n",
              "          element.innerHTML = '';\n",
              "          dataTable['output_type'] = 'display_data';\n",
              "          await google.colab.output.renderOutput(dataTable, element);\n",
              "          const docLink = document.createElement('div');\n",
              "          docLink.innerHTML = docLinkHtml;\n",
              "          element.appendChild(docLink);\n",
              "        }\n",
              "      </script>\n",
              "    </div>\n",
              "  </div>\n",
              "  "
            ]
          },
          "metadata": {},
          "execution_count": 49
        }
      ]
    },
    {
      "cell_type": "code",
      "source": [
        "# membuat series True or False untuk data NaN (missing) and present data respectively. \n",
        "nul_data = pd.isnull(dataset['mean_temp']) \n",
        "    \n",
        "# print only the data, mean_temp = NaN \n",
        "dataset[nul_data].head()"
      ],
      "metadata": {
        "colab": {
          "base_uri": "https://localhost:8080/",
          "height": 238
        },
        "id": "VxLSQyGs1m69",
        "outputId": "cd91f292-6526-48ed-b5a7-8cda095041bc"
      },
      "execution_count": 50,
      "outputs": [
        {
          "output_type": "execute_result",
          "data": {
            "text/plain": [
              "                               mean_temp\n",
              "date                                    \n",
              "1970-01-01 00:00:00.020050912        NaN\n",
              "1970-01-01 00:00:00.020051015        NaN\n",
              "1970-01-01 00:00:00.020051230        NaN\n",
              "1970-01-01 00:00:00.020060109        NaN\n",
              "1970-01-01 00:00:00.020060203        NaN"
            ],
            "text/html": [
              "\n",
              "  <div id=\"df-df04b4bc-6cf2-44aa-a546-1e6897f757a6\">\n",
              "    <div class=\"colab-df-container\">\n",
              "      <div>\n",
              "<style scoped>\n",
              "    .dataframe tbody tr th:only-of-type {\n",
              "        vertical-align: middle;\n",
              "    }\n",
              "\n",
              "    .dataframe tbody tr th {\n",
              "        vertical-align: top;\n",
              "    }\n",
              "\n",
              "    .dataframe thead th {\n",
              "        text-align: right;\n",
              "    }\n",
              "</style>\n",
              "<table border=\"1\" class=\"dataframe\">\n",
              "  <thead>\n",
              "    <tr style=\"text-align: right;\">\n",
              "      <th></th>\n",
              "      <th>mean_temp</th>\n",
              "    </tr>\n",
              "    <tr>\n",
              "      <th>date</th>\n",
              "      <th></th>\n",
              "    </tr>\n",
              "  </thead>\n",
              "  <tbody>\n",
              "    <tr>\n",
              "      <th>1970-01-01 00:00:00.020050912</th>\n",
              "      <td>NaN</td>\n",
              "    </tr>\n",
              "    <tr>\n",
              "      <th>1970-01-01 00:00:00.020051015</th>\n",
              "      <td>NaN</td>\n",
              "    </tr>\n",
              "    <tr>\n",
              "      <th>1970-01-01 00:00:00.020051230</th>\n",
              "      <td>NaN</td>\n",
              "    </tr>\n",
              "    <tr>\n",
              "      <th>1970-01-01 00:00:00.020060109</th>\n",
              "      <td>NaN</td>\n",
              "    </tr>\n",
              "    <tr>\n",
              "      <th>1970-01-01 00:00:00.020060203</th>\n",
              "      <td>NaN</td>\n",
              "    </tr>\n",
              "  </tbody>\n",
              "</table>\n",
              "</div>\n",
              "      <button class=\"colab-df-convert\" onclick=\"convertToInteractive('df-df04b4bc-6cf2-44aa-a546-1e6897f757a6')\"\n",
              "              title=\"Convert this dataframe to an interactive table.\"\n",
              "              style=\"display:none;\">\n",
              "        \n",
              "  <svg xmlns=\"http://www.w3.org/2000/svg\" height=\"24px\"viewBox=\"0 0 24 24\"\n",
              "       width=\"24px\">\n",
              "    <path d=\"M0 0h24v24H0V0z\" fill=\"none\"/>\n",
              "    <path d=\"M18.56 5.44l.94 2.06.94-2.06 2.06-.94-2.06-.94-.94-2.06-.94 2.06-2.06.94zm-11 1L8.5 8.5l.94-2.06 2.06-.94-2.06-.94L8.5 2.5l-.94 2.06-2.06.94zm10 10l.94 2.06.94-2.06 2.06-.94-2.06-.94-.94-2.06-.94 2.06-2.06.94z\"/><path d=\"M17.41 7.96l-1.37-1.37c-.4-.4-.92-.59-1.43-.59-.52 0-1.04.2-1.43.59L10.3 9.45l-7.72 7.72c-.78.78-.78 2.05 0 2.83L4 21.41c.39.39.9.59 1.41.59.51 0 1.02-.2 1.41-.59l7.78-7.78 2.81-2.81c.8-.78.8-2.07 0-2.86zM5.41 20L4 18.59l7.72-7.72 1.47 1.35L5.41 20z\"/>\n",
              "  </svg>\n",
              "      </button>\n",
              "      \n",
              "  <style>\n",
              "    .colab-df-container {\n",
              "      display:flex;\n",
              "      flex-wrap:wrap;\n",
              "      gap: 12px;\n",
              "    }\n",
              "\n",
              "    .colab-df-convert {\n",
              "      background-color: #E8F0FE;\n",
              "      border: none;\n",
              "      border-radius: 50%;\n",
              "      cursor: pointer;\n",
              "      display: none;\n",
              "      fill: #1967D2;\n",
              "      height: 32px;\n",
              "      padding: 0 0 0 0;\n",
              "      width: 32px;\n",
              "    }\n",
              "\n",
              "    .colab-df-convert:hover {\n",
              "      background-color: #E2EBFA;\n",
              "      box-shadow: 0px 1px 2px rgba(60, 64, 67, 0.3), 0px 1px 3px 1px rgba(60, 64, 67, 0.15);\n",
              "      fill: #174EA6;\n",
              "    }\n",
              "\n",
              "    [theme=dark] .colab-df-convert {\n",
              "      background-color: #3B4455;\n",
              "      fill: #D2E3FC;\n",
              "    }\n",
              "\n",
              "    [theme=dark] .colab-df-convert:hover {\n",
              "      background-color: #434B5C;\n",
              "      box-shadow: 0px 1px 3px 1px rgba(0, 0, 0, 0.15);\n",
              "      filter: drop-shadow(0px 1px 2px rgba(0, 0, 0, 0.3));\n",
              "      fill: #FFFFFF;\n",
              "    }\n",
              "  </style>\n",
              "\n",
              "      <script>\n",
              "        const buttonEl =\n",
              "          document.querySelector('#df-df04b4bc-6cf2-44aa-a546-1e6897f757a6 button.colab-df-convert');\n",
              "        buttonEl.style.display =\n",
              "          google.colab.kernel.accessAllowed ? 'block' : 'none';\n",
              "\n",
              "        async function convertToInteractive(key) {\n",
              "          const element = document.querySelector('#df-df04b4bc-6cf2-44aa-a546-1e6897f757a6');\n",
              "          const dataTable =\n",
              "            await google.colab.kernel.invokeFunction('convertToInteractive',\n",
              "                                                     [key], {});\n",
              "          if (!dataTable) return;\n",
              "\n",
              "          const docLinkHtml = 'Like what you see? Visit the ' +\n",
              "            '<a target=\"_blank\" href=https://colab.research.google.com/notebooks/data_table.ipynb>data table notebook</a>'\n",
              "            + ' to learn more about interactive tables.';\n",
              "          element.innerHTML = '';\n",
              "          dataTable['output_type'] = 'display_data';\n",
              "          await google.colab.output.renderOutput(dataTable, element);\n",
              "          const docLink = document.createElement('div');\n",
              "          docLink.innerHTML = docLinkHtml;\n",
              "          element.appendChild(docLink);\n",
              "        }\n",
              "      </script>\n",
              "    </div>\n",
              "  </div>\n",
              "  "
            ]
          },
          "metadata": {},
          "execution_count": 50
        }
      ]
    },
    {
      "cell_type": "code",
      "source": [
        "plt.rcParams['figure.figsize']=(15,7)\n",
        "\n",
        "# untuk mengisi data yang hilang menggunakan mean dari data\n",
        "dataset = dataset.assign(FillMeanTemp=dataset.mean_temp.fillna(dataset.mean_temp.mean()))\n",
        "\n",
        "plt.plot(dataset, color='blue')\n",
        "\n",
        "plt.title('Mean Temp Imputation')\n",
        "\n",
        "plt.show()"
      ],
      "metadata": {
        "colab": {
          "base_uri": "https://localhost:8080/",
          "height": 533
        },
        "id": "ik7AEc4-2t0r",
        "outputId": "de147ddd-dab8-43b3-c30f-b5afcaf1da45"
      },
      "execution_count": 51,
      "outputs": [
        {
          "output_type": "stream",
          "name": "stderr",
          "text": [
            "/usr/local/lib/python3.7/dist-packages/ipykernel/pylab/backend_inline.py:183: UserWarning: Plotting microsecond time intervals is not well supported; please see the MicrosecondLocator documentation for details.\n",
            "  for label in axis.get_ticklabels()])\n",
            "/usr/local/lib/python3.7/dist-packages/IPython/core/pylabtools.py:128: UserWarning: Plotting microsecond time intervals is not well supported; please see the MicrosecondLocator documentation for details.\n",
            "  fig.canvas.print_figure(bytes_io, **kw)\n"
          ]
        },
        {
          "output_type": "display_data",
          "data": {
            "text/plain": [
              "<Figure size 1080x504 with 1 Axes>"
            ],
            "image/png": "[encoded data removed]"
          },
          "metadata": {
            "needs_background": "light"
          }
        }
      ]
    },
    {
      "cell_type": "code",
      "source": [
        "dataset.head() #mengecek data setelah memperbaiki missing value"
      ],
      "metadata": {
        "colab": {
          "base_uri": "https://localhost:8080/",
          "height": 238
        },
        "id": "LF0NS0eL5JJr",
        "outputId": "3eb5ddb9-0296-4666-b5c4-ce6ca5ed1226"
      },
      "execution_count": 52,
      "outputs": [
        {
          "output_type": "execute_result",
          "data": {
            "text/plain": [
              "                               mean_temp  FillMeanTemp\n",
              "date                                                  \n",
              "1970-01-01 00:00:00.019790101       -4.1          -4.1\n",
              "1970-01-01 00:00:00.019790102       -2.6          -2.6\n",
              "1970-01-01 00:00:00.019790103       -2.8          -2.8\n",
              "1970-01-01 00:00:00.019790104       -2.6          -2.6\n",
              "1970-01-01 00:00:00.019790105       -0.8          -0.8"
            ],
            "text/html": [
              "\n",
              "  <div id=\"df-c7ca81f9-6b2b-420c-a3d6-aa344d5ba364\">\n",
              "    <div class=\"colab-df-container\">\n",
              "      <div>\n",
              "<style scoped>\n",
              "    .dataframe tbody tr th:only-of-type {\n",
              "        vertical-align: middle;\n",
              "    }\n",
              "\n",
              "    .dataframe tbody tr th {\n",
              "        vertical-align: top;\n",
              "    }\n",
              "\n",
              "    .dataframe thead th {\n",
              "        text-align: right;\n",
              "    }\n",
              "</style>\n",
              "<table border=\"1\" class=\"dataframe\">\n",
              "  <thead>\n",
              "    <tr style=\"text-align: right;\">\n",
              "      <th></th>\n",
              "      <th>mean_temp</th>\n",
              "      <th>FillMeanTemp</th>\n",
              "    </tr>\n",
              "    <tr>\n",
              "      <th>date</th>\n",
              "      <th></th>\n",
              "      <th></th>\n",
              "    </tr>\n",
              "  </thead>\n",
              "  <tbody>\n",
              "    <tr>\n",
              "      <th>1970-01-01 00:00:00.019790101</th>\n",
              "      <td>-4.1</td>\n",
              "      <td>-4.1</td>\n",
              "    </tr>\n",
              "    <tr>\n",
              "      <th>1970-01-01 00:00:00.019790102</th>\n",
              "      <td>-2.6</td>\n",
              "      <td>-2.6</td>\n",
              "    </tr>\n",
              "    <tr>\n",
              "      <th>1970-01-01 00:00:00.019790103</th>\n",
              "      <td>-2.8</td>\n",
              "      <td>-2.8</td>\n",
              "    </tr>\n",
              "    <tr>\n",
              "      <th>1970-01-01 00:00:00.019790104</th>\n",
              "      <td>-2.6</td>\n",
              "      <td>-2.6</td>\n",
              "    </tr>\n",
              "    <tr>\n",
              "      <th>1970-01-01 00:00:00.019790105</th>\n",
              "      <td>-0.8</td>\n",
              "      <td>-0.8</td>\n",
              "    </tr>\n",
              "  </tbody>\n",
              "</table>\n",
              "</div>\n",
              "      <button class=\"colab-df-convert\" onclick=\"convertToInteractive('df-c7ca81f9-6b2b-420c-a3d6-aa344d5ba364')\"\n",
              "              title=\"Convert this dataframe to an interactive table.\"\n",
              "              style=\"display:none;\">\n",
              "        \n",
              "  <svg xmlns=\"http://www.w3.org/2000/svg\" height=\"24px\"viewBox=\"0 0 24 24\"\n",
              "       width=\"24px\">\n",
              "    <path d=\"M0 0h24v24H0V0z\" fill=\"none\"/>\n",
              "    <path d=\"M18.56 5.44l.94 2.06.94-2.06 2.06-.94-2.06-.94-.94-2.06-.94 2.06-2.06.94zm-11 1L8.5 8.5l.94-2.06 2.06-.94-2.06-.94L8.5 2.5l-.94 2.06-2.06.94zm10 10l.94 2.06.94-2.06 2.06-.94-2.06-.94-.94-2.06-.94 2.06-2.06.94z\"/><path d=\"M17.41 7.96l-1.37-1.37c-.4-.4-.92-.59-1.43-.59-.52 0-1.04.2-1.43.59L10.3 9.45l-7.72 7.72c-.78.78-.78 2.05 0 2.83L4 21.41c.39.39.9.59 1.41.59.51 0 1.02-.2 1.41-.59l7.78-7.78 2.81-2.81c.8-.78.8-2.07 0-2.86zM5.41 20L4 18.59l7.72-7.72 1.47 1.35L5.41 20z\"/>\n",
              "  </svg>\n",
              "      </button>\n",
              "      \n",
              "  <style>\n",
              "    .colab-df-container {\n",
              "      display:flex;\n",
              "      flex-wrap:wrap;\n",
              "      gap: 12px;\n",
              "    }\n",
              "\n",
              "    .colab-df-convert {\n",
              "      background-color: #E8F0FE;\n",
              "      border: none;\n",
              "      border-radius: 50%;\n",
              "      cursor: pointer;\n",
              "      display: none;\n",
              "      fill: #1967D2;\n",
              "      height: 32px;\n",
              "      padding: 0 0 0 0;\n",
              "      width: 32px;\n",
              "    }\n",
              "\n",
              "    .colab-df-convert:hover {\n",
              "      background-color: #E2EBFA;\n",
              "      box-shadow: 0px 1px 2px rgba(60, 64, 67, 0.3), 0px 1px 3px 1px rgba(60, 64, 67, 0.15);\n",
              "      fill: #174EA6;\n",
              "    }\n",
              "\n",
              "    [theme=dark] .colab-df-convert {\n",
              "      background-color: #3B4455;\n",
              "      fill: #D2E3FC;\n",
              "    }\n",
              "\n",
              "    [theme=dark] .colab-df-convert:hover {\n",
              "      background-color: #434B5C;\n",
              "      box-shadow: 0px 1px 3px 1px rgba(0, 0, 0, 0.15);\n",
              "      filter: drop-shadow(0px 1px 2px rgba(0, 0, 0, 0.3));\n",
              "      fill: #FFFFFF;\n",
              "    }\n",
              "  </style>\n",
              "\n",
              "      <script>\n",
              "        const buttonEl =\n",
              "          document.querySelector('#df-c7ca81f9-6b2b-420c-a3d6-aa344d5ba364 button.colab-df-convert');\n",
              "        buttonEl.style.display =\n",
              "          google.colab.kernel.accessAllowed ? 'block' : 'none';\n",
              "\n",
              "        async function convertToInteractive(key) {\n",
              "          const element = document.querySelector('#df-c7ca81f9-6b2b-420c-a3d6-aa344d5ba364');\n",
              "          const dataTable =\n",
              "            await google.colab.kernel.invokeFunction('convertToInteractive',\n",
              "                                                     [key], {});\n",
              "          if (!dataTable) return;\n",
              "\n",
              "          const docLinkHtml = 'Like what you see? Visit the ' +\n",
              "            '<a target=\"_blank\" href=https://colab.research.google.com/notebooks/data_table.ipynb>data table notebook</a>'\n",
              "            + ' to learn more about interactive tables.';\n",
              "          element.innerHTML = '';\n",
              "          dataTable['output_type'] = 'display_data';\n",
              "          await google.colab.output.renderOutput(dataTable, element);\n",
              "          const docLink = document.createElement('div');\n",
              "          docLink.innerHTML = docLinkHtml;\n",
              "          element.appendChild(docLink);\n",
              "        }\n",
              "      </script>\n",
              "    </div>\n",
              "  </div>\n",
              "  "
            ]
          },
          "metadata": {},
          "execution_count": 52
        }
      ]
    },
    {
      "cell_type": "code",
      "source": [
        "dataset.shape"
      ],
      "metadata": {
        "colab": {
          "base_uri": "https://localhost:8080/"
        },
        "id": "xbKqkliJ92uQ",
        "outputId": "909eebe4-72ff-4470-9614-a01421aa843b"
      },
      "execution_count": 53,
      "outputs": [
        {
          "output_type": "execute_result",
          "data": {
            "text/plain": [
              "(15341, 2)"
            ]
          },
          "metadata": {},
          "execution_count": 53
        }
      ]
    },
    {
      "cell_type": "code",
      "source": [
        "dataset.reset_index(drop=False, inplace=True) #mengembalikan index date ke data semula"
      ],
      "metadata": {
        "id": "8v6kA4uxKvsg"
      },
      "execution_count": 57,
      "outputs": []
    },
    {
      "cell_type": "code",
      "source": [
        "dataset.info()"
      ],
      "metadata": {
        "colab": {
          "base_uri": "https://localhost:8080/"
        },
        "id": "uUxhN5Rh-KfM",
        "outputId": "f3a6fb22-3e07-4b80-d745-97a7ca03eaae"
      },
      "execution_count": 58,
      "outputs": [
        {
          "output_type": "stream",
          "name": "stdout",
          "text": [
            "<class 'pandas.core.frame.DataFrame'>\n",
            "RangeIndex: 15341 entries, 0 to 15340\n",
            "Data columns (total 4 columns):\n",
            " #   Column        Non-Null Count  Dtype         \n",
            "---  ------        --------------  -----         \n",
            " 0   index         15341 non-null  int64         \n",
            " 1   date          15341 non-null  datetime64[ns]\n",
            " 2   mean_temp     15305 non-null  float64       \n",
            " 3   FillMeanTemp  15341 non-null  float64       \n",
            "dtypes: datetime64[ns](1), float64(2), int64(1)\n",
            "memory usage: 479.5 KB\n"
          ]
        }
      ]
    },
    {
      "cell_type": "code",
      "source": [
        "dataset.isnull().sum()"
      ],
      "metadata": {
        "colab": {
          "base_uri": "https://localhost:8080/"
        },
        "id": "97FDbOnF-TKF",
        "outputId": "ec9bd2a1-bd20-4ef3-9d81-059084fb86b1"
      },
      "execution_count": 59,
      "outputs": [
        {
          "output_type": "execute_result",
          "data": {
            "text/plain": [
              "index            0\n",
              "date             0\n",
              "mean_temp       36\n",
              "FillMeanTemp     0\n",
              "dtype: int64"
            ]
          },
          "metadata": {},
          "execution_count": 59
        }
      ]
    },
    {
      "cell_type": "markdown",
      "source": [
        "# Normalisasi"
      ],
      "metadata": {
        "id": "-_xzpcBen7G5"
      }
    },
    {
      "cell_type": "code",
      "source": [
        "from sklearn import preprocessing\n",
        "import numpy as np\n",
        "\n",
        "\n",
        "scaler = preprocessing.MinMaxScaler()\n",
        "tmp_scaler = scaler.fit_transform(dataset['FillMeanTemp'].values.reshape(-1,1))\n",
        "tmp_scaler"
      ],
      "metadata": {
        "id": "oktFUEA_zlpt",
        "outputId": "450d54c8-91cf-409d-ba2b-f78d1d572396",
        "colab": {
          "base_uri": "https://localhost:8080/"
        }
      },
      "execution_count": 60,
      "outputs": [
        {
          "output_type": "execute_result",
          "data": {
            "text/plain": [
              "array([[0.09562842],\n",
              "       [0.13661202],\n",
              "       [0.13114754],\n",
              "       ...,\n",
              "       [0.27868852],\n",
              "       [0.28142077],\n",
              "       [0.18579235]])"
            ]
          },
          "metadata": {},
          "execution_count": 60
        }
      ]
    },
    {
      "cell_type": "code",
      "source": [
        "tmp_fix = tmp_scaler.reshape(-1)"
      ],
      "metadata": {
        "id": "G2XjKFVr1lKD"
      },
      "execution_count": 61,
      "outputs": []
    },
    {
      "cell_type": "markdown",
      "source": [
        "# Split Data"
      ],
      "metadata": {
        "id": "xZanx-azoFfk"
      }
    },
    {
      "cell_type": "code",
      "source": [
        "from sklearn.model_selection import train_test_split\n",
        "\n",
        "#melatih data latih dan data uji \n",
        "dt_train, dt_test, tmp_train, tmp_test = train_test_split(dataset['date'].values, tmp_fix, test_size=0.2, shuffle=False)\n",
        "print(dt_train.shape, tmp_train.shape)\n",
        "print(dt_test.shape, tmp_test.shape)\n"
      ],
      "metadata": {
        "id": "E1Xih2L6kQKT",
        "colab": {
          "base_uri": "https://localhost:8080/"
        },
        "outputId": "7cf910b7-73a4-4a3d-db9b-a2d87f80e5d0"
      },
      "execution_count": 62,
      "outputs": [
        {
          "output_type": "stream",
          "name": "stdout",
          "text": [
            "(12272,) (12272,)\n",
            "(3069,) (3069,)\n"
          ]
        }
      ]
    },
    {
      "cell_type": "code",
      "source": [
        "#mengubah data kita menjadi format yang dapat diterima oleh model. \n",
        "#series/atribut dikonversi menjadi tipe numpy, lalu mengembalikan label dan atribut dari dataset dalam bentuk batch.\n",
        "\n",
        "def windowed_dataset(series, window_size, batch_size, shuffle_buffer):\n",
        "    series = tf.expand_dims(series, axis=-1)\n",
        "    ds = tf.data.Dataset.from_tensor_slices(series)\n",
        "    ds = ds.window(window_size + 1, shift=1, drop_remainder=True)\n",
        "    ds = ds.flat_map(lambda w: w.batch(window_size + 1))\n",
        "    ds = ds.shuffle(shuffle_buffer)\n",
        "    ds = ds.map(lambda w: (w[:-1], w[-1:]))\n",
        "    return ds.batch(batch_size).prefetch(1)"
      ],
      "metadata": {
        "id": "O5rFN5Sv0WXw"
      },
      "execution_count": 63,
      "outputs": []
    },
    {
      "cell_type": "code",
      "source": [
        "train_set = windowed_dataset(tmp_train, window_size=60, batch_size=100, shuffle_buffer=1000)\n",
        "val_set = windowed_dataset(tmp_test, window_size=60, batch_size=100, shuffle_buffer=1000)"
      ],
      "metadata": {
        "id": "PUzKducTBOuP"
      },
      "execution_count": 64,
      "outputs": []
    },
    {
      "cell_type": "markdown",
      "source": [
        "# Model "
      ],
      "metadata": {
        "id": "SLauyMZYoLvy"
      }
    },
    {
      "cell_type": "code",
      "source": [
        "from keras.models import Sequential\n",
        "from keras.layers import Bidirectional, Dense, LSTM, Dropout\n",
        "\n",
        "model = tf.keras.models.Sequential([\n",
        "  tf.keras.layers.LSTM(60, return_sequences=True),\n",
        "  tf.keras.layers.Bidirectional(tf.keras.layers.LSTM(60)),\n",
        "  tf.keras.layers.Dense(30, activation=\"relu\"),\n",
        "  tf.keras.layers.Dropout(0.3),\n",
        "  tf.keras.layers.Dense(10, activation=\"relu\"),\n",
        "  tf.keras.layers.Dense(1),\n",
        "])"
      ],
      "metadata": {
        "id": "cU_RKwBp1b0o"
      },
      "execution_count": 67,
      "outputs": []
    },
    {
      "cell_type": "code",
      "source": [
        "optimizer = tf.keras.optimizers.SGD(lr=1.0000e-04, momentum=0.9)\n",
        "model.compile(loss=tf.keras.losses.Huber(),\n",
        "                optimizer=optimizer,\n",
        "                metrics=['mae'])"
      ],
      "metadata": {
        "id": "IKvljG834Etx",
        "colab": {
          "base_uri": "https://localhost:8080/"
        },
        "outputId": "301ec936-4bb9-46b9-dd8e-365d923665fd"
      },
      "execution_count": 68,
      "outputs": [
        {
          "output_type": "stream",
          "name": "stderr",
          "text": [
            "/usr/local/lib/python3.7/dist-packages/keras/optimizers/optimizer_v2/gradient_descent.py:108: UserWarning: The `lr` argument is deprecated, use `learning_rate` instead.\n",
            "  super(SGD, self).__init__(name, **kwargs)\n"
          ]
        }
      ]
    },
    {
      "cell_type": "code",
      "source": [
        "max_mae = (tmp_fix.max() - tmp_fix.min()) * 10/100\n",
        "print(f'Batas nilai mae: harus dibawah {max_mae}')"
      ],
      "metadata": {
        "colab": {
          "base_uri": "https://localhost:8080/"
        },
        "id": "tYYjBVIXCUv-",
        "outputId": "81bec211-9b17-46dc-af7a-ef760b8d1035"
      },
      "execution_count": 69,
      "outputs": [
        {
          "output_type": "stream",
          "name": "stdout",
          "text": [
            "Batas nilai mae: harus dibawah 0.1\n"
          ]
        }
      ]
    },
    {
      "cell_type": "code",
      "source": [
        "class berhenti(tf.keras.callbacks.Callback):\n",
        "  def on_epoch_end(self, epoch, logs={}):\n",
        "    if (logs.get('mae') < 0.1):\n",
        "      self.model.stop_training = True\n",
        "      print('\\nalhamdulillah MAE pada model telah < 10% skala data')\n",
        "iniCallback = berhenti()"
      ],
      "metadata": {
        "id": "JxdqCBKVMdgY"
      },
      "execution_count": 70,
      "outputs": []
    },
    {
      "cell_type": "code",
      "source": [
        "tf.keras.backend.set_floatx('float64')"
      ],
      "metadata": {
        "id": "iT9f613KEEor"
      },
      "execution_count": 71,
      "outputs": []
    },
    {
      "cell_type": "code",
      "source": [
        "history = model.fit(train_set,\n",
        "                    validation_data = val_set, # menampilkan akurasi pengujian data validasi\n",
        "                    epochs=500, batch_size=60, \n",
        "                    callbacks = [iniCallback])"
      ],
      "metadata": {
        "colab": {
          "base_uri": "https://localhost:8080/"
        },
        "id": "QFAb2tXP6dOq",
        "outputId": "60210e8f-c2a8-4227-d8d7-3227471f9e55"
      },
      "execution_count": 72,
      "outputs": [
        {
          "output_type": "stream",
          "name": "stdout",
          "text": [
            "Epoch 1/500\n",
            "      6/Unknown - 6s 94ms/step - loss: 0.1294 - mae: 0.4845"
          ]
        },
        {
          "output_type": "stream",
          "name": "stderr",
          "text": [
            "WARNING:tensorflow:Callback method `on_train_batch_end` is slow compared to the batch time (batch time: 0.0343s vs `on_train_batch_end` time: 0.0531s). Check your callbacks.\n"
          ]
        },
        {
          "output_type": "stream",
          "name": "stdout",
          "text": [
            "123/123 [==============================] - 17s 100ms/step - loss: 0.1003 - mae: 0.4206 - val_loss: 0.0760 - val_mae: 0.3633\n",
            "Epoch 2/500\n",
            "123/123 [==============================] - 11s 84ms/step - loss: 0.0569 - mae: 0.3046 - val_loss: 0.0460 - val_mae: 0.2701\n",
            "Epoch 3/500\n",
            "123/123 [==============================] - 11s 86ms/step - loss: 0.0352 - mae: 0.2279 - val_loss: 0.0289 - val_mae: 0.2037\n",
            "Epoch 4/500\n",
            "123/123 [==============================] - 11s 85ms/step - loss: 0.0234 - mae: 0.1787 - val_loss: 0.0196 - val_mae: 0.1613\n",
            "Epoch 5/500\n",
            "123/123 [==============================] - 11s 86ms/step - loss: 0.0173 - mae: 0.1503 - val_loss: 0.0146 - val_mae: 0.1375\n",
            "Epoch 6/500\n",
            "123/123 [==============================] - 11s 86ms/step - loss: 0.0142 - mae: 0.1360 - val_loss: 0.0120 - val_mae: 0.1246\n",
            "Epoch 7/500\n",
            "123/123 [==============================] - 11s 85ms/step - loss: 0.0124 - mae: 0.1273 - val_loss: 0.0107 - val_mae: 0.1182\n",
            "Epoch 8/500\n",
            "123/123 [==============================] - 11s 86ms/step - loss: 0.0117 - mae: 0.1242 - val_loss: 0.0100 - val_mae: 0.1150\n",
            "Epoch 9/500\n",
            "123/123 [==============================] - 11s 87ms/step - loss: 0.0114 - mae: 0.1226 - val_loss: 0.0096 - val_mae: 0.1132\n",
            "Epoch 10/500\n",
            "123/123 [==============================] - 11s 84ms/step - loss: 0.0114 - mae: 0.1223 - val_loss: 0.0094 - val_mae: 0.1124\n",
            "Epoch 11/500\n",
            "123/123 [==============================] - 11s 85ms/step - loss: 0.0110 - mae: 0.1208 - val_loss: 0.0093 - val_mae: 0.1118\n",
            "Epoch 12/500\n",
            "123/123 [==============================] - 11s 85ms/step - loss: 0.0112 - mae: 0.1212 - val_loss: 0.0093 - val_mae: 0.1115\n",
            "Epoch 13/500\n",
            "123/123 [==============================] - 11s 85ms/step - loss: 0.0109 - mae: 0.1202 - val_loss: 0.0092 - val_mae: 0.1113\n",
            "Epoch 14/500\n",
            "123/123 [==============================] - 11s 85ms/step - loss: 0.0110 - mae: 0.1201 - val_loss: 0.0092 - val_mae: 0.1111\n",
            "Epoch 15/500\n",
            "123/123 [==============================] - 11s 87ms/step - loss: 0.0108 - mae: 0.1197 - val_loss: 0.0092 - val_mae: 0.1109\n",
            "Epoch 16/500\n",
            "123/123 [==============================] - 11s 85ms/step - loss: 0.0108 - mae: 0.1196 - val_loss: 0.0091 - val_mae: 0.1108\n",
            "Epoch 17/500\n",
            "123/123 [==============================] - 11s 85ms/step - loss: 0.0109 - mae: 0.1202 - val_loss: 0.0091 - val_mae: 0.1107\n",
            "Epoch 18/500\n",
            "123/123 [==============================] - 11s 86ms/step - loss: 0.0107 - mae: 0.1187 - val_loss: 0.0091 - val_mae: 0.1106\n",
            "Epoch 19/500\n",
            "123/123 [==============================] - 11s 85ms/step - loss: 0.0107 - mae: 0.1187 - val_loss: 0.0091 - val_mae: 0.1105\n",
            "Epoch 20/500\n",
            "123/123 [==============================] - 11s 85ms/step - loss: 0.0105 - mae: 0.1177 - val_loss: 0.0091 - val_mae: 0.1104\n",
            "Epoch 21/500\n",
            "123/123 [==============================] - 11s 88ms/step - loss: 0.0106 - mae: 0.1184 - val_loss: 0.0091 - val_mae: 0.1103\n",
            "Epoch 22/500\n",
            "123/123 [==============================] - 11s 86ms/step - loss: 0.0104 - mae: 0.1178 - val_loss: 0.0090 - val_mae: 0.1102\n",
            "Epoch 23/500\n",
            "123/123 [==============================] - 11s 86ms/step - loss: 0.0106 - mae: 0.1187 - val_loss: 0.0090 - val_mae: 0.1101\n",
            "Epoch 24/500\n",
            "123/123 [==============================] - 11s 86ms/step - loss: 0.0105 - mae: 0.1177 - val_loss: 0.0090 - val_mae: 0.1100\n",
            "Epoch 25/500\n",
            "123/123 [==============================] - 11s 85ms/step - loss: 0.0105 - mae: 0.1178 - val_loss: 0.0090 - val_mae: 0.1099\n",
            "Epoch 26/500\n",
            "123/123 [==============================] - 11s 85ms/step - loss: 0.0104 - mae: 0.1177 - val_loss: 0.0090 - val_mae: 0.1098\n",
            "Epoch 27/500\n",
            "123/123 [==============================] - 11s 85ms/step - loss: 0.0104 - mae: 0.1175 - val_loss: 0.0090 - val_mae: 0.1097\n",
            "Epoch 28/500\n",
            "123/123 [==============================] - 11s 87ms/step - loss: 0.0103 - mae: 0.1170 - val_loss: 0.0090 - val_mae: 0.1096\n",
            "Epoch 29/500\n",
            "123/123 [==============================] - 11s 85ms/step - loss: 0.0102 - mae: 0.1161 - val_loss: 0.0089 - val_mae: 0.1094\n",
            "Epoch 30/500\n",
            "123/123 [==============================] - 11s 86ms/step - loss: 0.0103 - mae: 0.1167 - val_loss: 0.0089 - val_mae: 0.1093\n",
            "Epoch 31/500\n",
            "123/123 [==============================] - 11s 85ms/step - loss: 0.0101 - mae: 0.1161 - val_loss: 0.0089 - val_mae: 0.1092\n",
            "Epoch 32/500\n",
            "123/123 [==============================] - 11s 88ms/step - loss: 0.0103 - mae: 0.1168 - val_loss: 0.0089 - val_mae: 0.1091\n",
            "Epoch 33/500\n",
            "123/123 [==============================] - 11s 86ms/step - loss: 0.0102 - mae: 0.1161 - val_loss: 0.0089 - val_mae: 0.1090\n",
            "Epoch 34/500\n",
            "123/123 [==============================] - 11s 84ms/step - loss: 0.0101 - mae: 0.1158 - val_loss: 0.0089 - val_mae: 0.1089\n",
            "Epoch 35/500\n",
            "123/123 [==============================] - 11s 86ms/step - loss: 0.0101 - mae: 0.1156 - val_loss: 0.0088 - val_mae: 0.1088\n",
            "Epoch 36/500\n",
            "123/123 [==============================] - 11s 85ms/step - loss: 0.0101 - mae: 0.1158 - val_loss: 0.0088 - val_mae: 0.1086\n",
            "Epoch 37/500\n",
            "123/123 [==============================] - 11s 86ms/step - loss: 0.0100 - mae: 0.1152 - val_loss: 0.0088 - val_mae: 0.1084\n",
            "Epoch 38/500\n",
            "123/123 [==============================] - 11s 88ms/step - loss: 0.0100 - mae: 0.1144 - val_loss: 0.0088 - val_mae: 0.1083\n",
            "Epoch 39/500\n",
            "123/123 [==============================] - 11s 85ms/step - loss: 0.0099 - mae: 0.1145 - val_loss: 0.0087 - val_mae: 0.1081\n",
            "Epoch 40/500\n",
            "123/123 [==============================] - 11s 87ms/step - loss: 0.0098 - mae: 0.1136 - val_loss: 0.0087 - val_mae: 0.1079\n",
            "Epoch 41/500\n",
            "123/123 [==============================] - 11s 85ms/step - loss: 0.0100 - mae: 0.1148 - val_loss: 0.0087 - val_mae: 0.1078\n",
            "Epoch 42/500\n",
            "123/123 [==============================] - 11s 86ms/step - loss: 0.0098 - mae: 0.1140 - val_loss: 0.0087 - val_mae: 0.1076\n",
            "Epoch 43/500\n",
            "123/123 [==============================] - 11s 86ms/step - loss: 0.0097 - mae: 0.1131 - val_loss: 0.0086 - val_mae: 0.1074\n",
            "Epoch 44/500\n",
            "123/123 [==============================] - 11s 85ms/step - loss: 0.0098 - mae: 0.1138 - val_loss: 0.0086 - val_mae: 0.1073\n",
            "Epoch 45/500\n",
            "123/123 [==============================] - 11s 86ms/step - loss: 0.0096 - mae: 0.1127 - val_loss: 0.0086 - val_mae: 0.1071\n",
            "Epoch 46/500\n",
            "123/123 [==============================] - 11s 85ms/step - loss: 0.0097 - mae: 0.1132 - val_loss: 0.0086 - val_mae: 0.1070\n",
            "Epoch 47/500\n",
            "123/123 [==============================] - 11s 86ms/step - loss: 0.0096 - mae: 0.1130 - val_loss: 0.0086 - val_mae: 0.1068\n",
            "Epoch 48/500\n",
            "123/123 [==============================] - 11s 85ms/step - loss: 0.0096 - mae: 0.1125 - val_loss: 0.0085 - val_mae: 0.1067\n",
            "Epoch 49/500\n",
            "123/123 [==============================] - 11s 85ms/step - loss: 0.0096 - mae: 0.1123 - val_loss: 0.0085 - val_mae: 0.1065\n",
            "Epoch 50/500\n",
            "123/123 [==============================] - 11s 86ms/step - loss: 0.0096 - mae: 0.1125 - val_loss: 0.0085 - val_mae: 0.1064\n",
            "Epoch 51/500\n",
            "123/123 [==============================] - 11s 86ms/step - loss: 0.0095 - mae: 0.1117 - val_loss: 0.0085 - val_mae: 0.1062\n",
            "Epoch 52/500\n",
            "123/123 [==============================] - 11s 85ms/step - loss: 0.0094 - mae: 0.1117 - val_loss: 0.0085 - val_mae: 0.1061\n",
            "Epoch 53/500\n",
            "123/123 [==============================] - 11s 85ms/step - loss: 0.0096 - mae: 0.1125 - val_loss: 0.0084 - val_mae: 0.1059\n",
            "Epoch 54/500\n",
            "123/123 [==============================] - 11s 87ms/step - loss: 0.0095 - mae: 0.1118 - val_loss: 0.0084 - val_mae: 0.1057\n",
            "Epoch 55/500\n",
            "123/123 [==============================] - 11s 86ms/step - loss: 0.0095 - mae: 0.1117 - val_loss: 0.0084 - val_mae: 0.1055\n",
            "Epoch 56/500\n",
            "123/123 [==============================] - 11s 84ms/step - loss: 0.0095 - mae: 0.1115 - val_loss: 0.0083 - val_mae: 0.1054\n",
            "Epoch 57/500\n",
            "123/123 [==============================] - 11s 85ms/step - loss: 0.0093 - mae: 0.1106 - val_loss: 0.0083 - val_mae: 0.1052\n",
            "Epoch 58/500\n",
            "123/123 [==============================] - 11s 87ms/step - loss: 0.0092 - mae: 0.1105 - val_loss: 0.0083 - val_mae: 0.1050\n",
            "Epoch 59/500\n",
            "123/123 [==============================] - 11s 85ms/step - loss: 0.0093 - mae: 0.1105 - val_loss: 0.0083 - val_mae: 0.1048\n",
            "Epoch 60/500\n",
            "123/123 [==============================] - 11s 85ms/step - loss: 0.0093 - mae: 0.1110 - val_loss: 0.0082 - val_mae: 0.1046\n",
            "Epoch 61/500\n",
            "123/123 [==============================] - 11s 86ms/step - loss: 0.0092 - mae: 0.1099 - val_loss: 0.0082 - val_mae: 0.1045\n",
            "Epoch 62/500\n",
            "123/123 [==============================] - 11s 86ms/step - loss: 0.0092 - mae: 0.1101 - val_loss: 0.0082 - val_mae: 0.1043\n",
            "Epoch 63/500\n",
            "123/123 [==============================] - 11s 85ms/step - loss: 0.0091 - mae: 0.1093 - val_loss: 0.0082 - val_mae: 0.1041\n",
            "Epoch 64/500\n",
            "123/123 [==============================] - 11s 84ms/step - loss: 0.0091 - mae: 0.1091 - val_loss: 0.0081 - val_mae: 0.1039\n",
            "Epoch 65/500\n",
            "123/123 [==============================] - 11s 87ms/step - loss: 0.0089 - mae: 0.1084 - val_loss: 0.0081 - val_mae: 0.1037\n",
            "Epoch 66/500\n",
            "123/123 [==============================] - 11s 86ms/step - loss: 0.0091 - mae: 0.1091 - val_loss: 0.0081 - val_mae: 0.1035\n",
            "Epoch 67/500\n",
            "123/123 [==============================] - 11s 85ms/step - loss: 0.0090 - mae: 0.1087 - val_loss: 0.0081 - val_mae: 0.1033\n",
            "Epoch 68/500\n",
            "123/123 [==============================] - 11s 86ms/step - loss: 0.0090 - mae: 0.1085 - val_loss: 0.0080 - val_mae: 0.1032\n",
            "Epoch 69/500\n",
            "123/123 [==============================] - 11s 85ms/step - loss: 0.0090 - mae: 0.1086 - val_loss: 0.0080 - val_mae: 0.1030\n",
            "Epoch 70/500\n",
            "123/123 [==============================] - 11s 86ms/step - loss: 0.0089 - mae: 0.1081 - val_loss: 0.0080 - val_mae: 0.1028\n",
            "Epoch 71/500\n",
            "123/123 [==============================] - 11s 86ms/step - loss: 0.0089 - mae: 0.1079 - val_loss: 0.0080 - val_mae: 0.1026\n",
            "Epoch 72/500\n",
            "123/123 [==============================] - 11s 87ms/step - loss: 0.0088 - mae: 0.1072 - val_loss: 0.0079 - val_mae: 0.1024\n",
            "Epoch 73/500\n",
            "123/123 [==============================] - 11s 85ms/step - loss: 0.0088 - mae: 0.1074 - val_loss: 0.0079 - val_mae: 0.1022\n",
            "Epoch 74/500\n",
            "123/123 [==============================] - 11s 86ms/step - loss: 0.0086 - mae: 0.1062 - val_loss: 0.0079 - val_mae: 0.1020\n",
            "Epoch 75/500\n",
            "123/123 [==============================] - 11s 85ms/step - loss: 0.0086 - mae: 0.1061 - val_loss: 0.0078 - val_mae: 0.1018\n",
            "Epoch 76/500\n",
            "123/123 [==============================] - 11s 86ms/step - loss: 0.0086 - mae: 0.1059 - val_loss: 0.0078 - val_mae: 0.1016\n",
            "Epoch 77/500\n",
            "123/123 [==============================] - 11s 86ms/step - loss: 0.0087 - mae: 0.1064 - val_loss: 0.0078 - val_mae: 0.1014\n",
            "Epoch 78/500\n",
            "123/123 [==============================] - 11s 86ms/step - loss: 0.0086 - mae: 0.1061 - val_loss: 0.0078 - val_mae: 0.1012\n",
            "Epoch 79/500\n",
            "123/123 [==============================] - 11s 86ms/step - loss: 0.0085 - mae: 0.1056 - val_loss: 0.0077 - val_mae: 0.1010\n",
            "Epoch 80/500\n",
            "123/123 [==============================] - 11s 85ms/step - loss: 0.0085 - mae: 0.1060 - val_loss: 0.0077 - val_mae: 0.1008\n",
            "Epoch 81/500\n",
            "123/123 [==============================] - 11s 87ms/step - loss: 0.0086 - mae: 0.1059 - val_loss: 0.0077 - val_mae: 0.1006\n",
            "Epoch 82/500\n",
            "123/123 [==============================] - 11s 88ms/step - loss: 0.0084 - mae: 0.1050 - val_loss: 0.0076 - val_mae: 0.1005\n",
            "Epoch 83/500\n",
            "123/123 [==============================] - 11s 86ms/step - loss: 0.0085 - mae: 0.1049 - val_loss: 0.0076 - val_mae: 0.1003\n",
            "Epoch 84/500\n",
            "123/123 [==============================] - 11s 86ms/step - loss: 0.0084 - mae: 0.1049 - val_loss: 0.0076 - val_mae: 0.1001\n",
            "Epoch 85/500\n",
            "123/123 [==============================] - 11s 87ms/step - loss: 0.0084 - mae: 0.1047 - val_loss: 0.0076 - val_mae: 0.0999\n",
            "Epoch 86/500\n",
            "123/123 [==============================] - 11s 86ms/step - loss: 0.0084 - mae: 0.1045 - val_loss: 0.0075 - val_mae: 0.0997\n",
            "Epoch 87/500\n",
            "123/123 [==============================] - 11s 88ms/step - loss: 0.0084 - mae: 0.1047 - val_loss: 0.0075 - val_mae: 0.0995\n",
            "Epoch 88/500\n",
            "123/123 [==============================] - 11s 87ms/step - loss: 0.0082 - mae: 0.1037 - val_loss: 0.0075 - val_mae: 0.0993\n",
            "Epoch 89/500\n",
            "123/123 [==============================] - 11s 85ms/step - loss: 0.0082 - mae: 0.1036 - val_loss: 0.0075 - val_mae: 0.0991\n",
            "Epoch 90/500\n",
            "123/123 [==============================] - 11s 88ms/step - loss: 0.0082 - mae: 0.1036 - val_loss: 0.0074 - val_mae: 0.0989\n",
            "Epoch 91/500\n",
            "123/123 [==============================] - 11s 85ms/step - loss: 0.0083 - mae: 0.1038 - val_loss: 0.0074 - val_mae: 0.0987\n",
            "Epoch 92/500\n",
            "123/123 [==============================] - 11s 86ms/step - loss: 0.0082 - mae: 0.1034 - val_loss: 0.0074 - val_mae: 0.0985\n",
            "Epoch 93/500\n",
            "123/123 [==============================] - 11s 86ms/step - loss: 0.0081 - mae: 0.1026 - val_loss: 0.0073 - val_mae: 0.0983\n",
            "Epoch 94/500\n",
            "123/123 [==============================] - 11s 88ms/step - loss: 0.0081 - mae: 0.1026 - val_loss: 0.0073 - val_mae: 0.0980\n",
            "Epoch 95/500\n",
            "123/123 [==============================] - 11s 85ms/step - loss: 0.0080 - mae: 0.1021 - val_loss: 0.0073 - val_mae: 0.0979\n",
            "Epoch 96/500\n",
            "123/123 [==============================] - 11s 87ms/step - loss: 0.0081 - mae: 0.1024 - val_loss: 0.0073 - val_mae: 0.0977\n",
            "Epoch 97/500\n",
            "123/123 [==============================] - 11s 86ms/step - loss: 0.0079 - mae: 0.1017 - val_loss: 0.0072 - val_mae: 0.0975\n",
            "Epoch 98/500\n",
            "123/123 [==============================] - 11s 86ms/step - loss: 0.0080 - mae: 0.1022 - val_loss: 0.0072 - val_mae: 0.0972\n",
            "Epoch 99/500\n",
            "123/123 [==============================] - 11s 87ms/step - loss: 0.0080 - mae: 0.1017 - val_loss: 0.0072 - val_mae: 0.0970\n",
            "Epoch 100/500\n",
            "123/123 [==============================] - 11s 86ms/step - loss: 0.0079 - mae: 0.1015 - val_loss: 0.0071 - val_mae: 0.0968\n",
            "Epoch 101/500\n",
            "123/123 [==============================] - 11s 86ms/step - loss: 0.0079 - mae: 0.1013 - val_loss: 0.0071 - val_mae: 0.0966\n",
            "Epoch 102/500\n",
            "123/123 [==============================] - 11s 87ms/step - loss: 0.0078 - mae: 0.1007 - val_loss: 0.0071 - val_mae: 0.0963\n",
            "Epoch 103/500\n",
            "123/123 [==============================] - 11s 86ms/step - loss: 0.0078 - mae: 0.1005 - val_loss: 0.0071 - val_mae: 0.0961\n",
            "Epoch 104/500\n",
            "123/123 [==============================] - 11s 86ms/step - loss: 0.0078 - mae: 0.1003 - val_loss: 0.0070 - val_mae: 0.0959\n",
            "Epoch 105/500\n",
            "123/123 [==============================] - 11s 86ms/step - loss: 0.0077 - mae: 0.1003 - val_loss: 0.0070 - val_mae: 0.0957\n",
            "Epoch 106/500\n",
            "123/123 [==============================] - 11s 87ms/step - loss: 0.0078 - mae: 0.1005 - val_loss: 0.0070 - val_mae: 0.0955\n",
            "Epoch 107/500\n",
            "122/123 [============================>.] - ETA: 0s - loss: 0.0076 - mae: 0.0994\n",
            "alhamdulillah MAE pada model telah < 10% skala data\n",
            "123/123 [==============================] - 11s 86ms/step - loss: 0.0076 - mae: 0.0994 - val_loss: 0.0069 - val_mae: 0.0953\n"
          ]
        }
      ]
    },
    {
      "cell_type": "code",
      "source": [
        "import numpy as np\n",
        "\n",
        "maee = history.history['mae']\n",
        "val_mae = history.history['val_mae']\n",
        "\n",
        "loss = history.history['loss']\n",
        "val_loss = history.history['val_loss']\n",
        "\n",
        "epochs_range = range(len(maee))\n",
        "\n",
        "plt.figure(figsize=(20, 8))\n",
        "plt.subplot(1, 2, 1)\n",
        "plt.plot(epochs_range, maee, label='Training MAE')\n",
        "plt.plot(epochs_range, val_mae, label='Validation MAE')\n",
        "plt.legend(loc='lower right')\n",
        "plt.title('Training and Validation MAE')\n",
        "\n",
        "plt.subplot(1, 2, 2)\n",
        "plt.plot(epochs_range, loss, label='Training Loss')\n",
        "plt.plot(epochs_range, val_loss, label='Validation Loss')\n",
        "plt.legend(loc='upper right')\n",
        "plt.title('Training and Validation Loss')"
      ],
      "metadata": {
        "colab": {
          "base_uri": "https://localhost:8080/",
          "height": 516
        },
        "id": "pib67OhcH0HI",
        "outputId": "dc6a00a5-177a-479f-9d04-4ca0093cbab5"
      },
      "execution_count": 73,
      "outputs": [
        {
          "output_type": "execute_result",
          "data": {
            "text/plain": [
              "Text(0.5, 1.0, 'Training and Validation Loss')"
            ]
          },
          "metadata": {},
          "execution_count": 73
        },
        {
          "output_type": "display_data",
          "data": {
            "text/plain": [
              "<Figure size 1440x576 with 2 Axes>"
            ],
            "image/png": "[encoded data removed]"
          },
          "metadata": {
            "needs_background": "light"
          }
        }
      ]
    },
    {
      "cell_type": "markdown",
      "source": [
        "# Prediksi"
      ],
      "metadata": {
        "id": "5pDs1b7Cyll6"
      }
    },
    {
      "cell_type": "code",
      "source": [
        "def model_forecast(model, series, window_size):\n",
        "    ds = tf.data.Dataset.from_tensor_slices(series)\n",
        "    ds = ds.window(window_size, shift=1, drop_remainder=True)\n",
        "    ds = ds.flat_map(lambda w: w.batch(window_size))\n",
        "    ds = ds.batch(32).prefetch(1)\n",
        "    forecast = model.predict(ds)\n",
        "    return forecast"
      ],
      "metadata": {
        "id": "P910IPyD8fFX"
      },
      "execution_count": 74,
      "outputs": []
    },
    {
      "cell_type": "code",
      "source": [
        "# test prediksi \n",
        "\n",
        "test_dt = dataset['date'].values\n",
        "test_tmp  = dataset['FillMeanTemp'].values\n",
        "\n",
        "predictions = model_forecast(model, test_tmp, 60)\n",
        "predictions = np.array([prediction[0] for prediction in predictions])\n",
        "range = test_dt[:len(predictions)]\n",
        "\n",
        "plt.figure(figsize=(20,5))\n",
        "plt.plot(range, predictions)\n",
        "plt.title('Temperature Predictions', fontsize=20)"
      ],
      "metadata": {
        "colab": {
          "base_uri": "https://localhost:8080/",
          "height": 500
        },
        "id": "TafBqkpC8jk3",
        "outputId": "68154044-971a-4c70-87c3-4d0be3e9fcd5"
      },
      "execution_count": 75,
      "outputs": [
        {
          "output_type": "stream",
          "name": "stdout",
          "text": [
            "478/478 [==============================] - 12s 22ms/step\n"
          ]
        },
        {
          "output_type": "execute_result",
          "data": {
            "text/plain": [
              "Text(0.5, 1.0, 'Temperature Predictions')"
            ]
          },
          "metadata": {},
          "execution_count": 75
        },
        {
          "output_type": "stream",
          "name": "stderr",
          "text": [
            "/usr/local/lib/python3.7/dist-packages/IPython/core/events.py:88: UserWarning: Plotting microsecond time intervals is not well supported; please see the MicrosecondLocator documentation for details.\n",
            "  func(*args, **kwargs)\n",
            "/usr/local/lib/python3.7/dist-packages/ipykernel/pylab/backend_inline.py:183: UserWarning: Plotting microsecond time intervals is not well supported; please see the MicrosecondLocator documentation for details.\n",
            "  for label in axis.get_ticklabels()])\n",
            "/usr/local/lib/python3.7/dist-packages/IPython/core/pylabtools.py:128: UserWarning: Plotting microsecond time intervals is not well supported; please see the MicrosecondLocator documentation for details.\n",
            "  fig.canvas.print_figure(bytes_io, **kw)\n"
          ]
        },
        {
          "output_type": "display_data",
          "data": {
            "text/plain": [
              "<Figure size 1440x360 with 1 Axes>"
            ],
            "image/png": "[encoded data removed]"
          },
          "metadata": {
            "needs_background": "light"
          }
        }
      ]
    },
    {
      "cell_type": "markdown",
      "source": [
        "## **Referensi**\n",
        "\n",
        "1.   [Sukma Ramadhan, Time Series Prediksi Energy Usage](https://github.com/onedayxzn/Time-Series-Prediksi-Energy-Usage/blob/master/TimeSeriesPrediksiEnergyUsage.ipynb )\n",
        "2.   [ Farhan, Membuat Model Machine Learning dengan Data Time Series](https://)\n",
        "3.   [A Complete Guide on How to Impute Missing Values in Time Series in Python](hhttps://www.section.io/engineering-education/missing-values-in-time-series/)\n",
        "4.  [ Time-Series Traffic Forecasting in Colab](https://youtu.be/xt8G0ltVl4Q)\n",
        "5.  [Memprediksi Harga Emas dengan Backpropagation di Python (Dataset Kaggle)](https://youtu.be/Chg_Vtm-r88)\n"
      ],
      "metadata": {
        "id": "JgrYVPN-vO1d"
      }
    }
  ]
}